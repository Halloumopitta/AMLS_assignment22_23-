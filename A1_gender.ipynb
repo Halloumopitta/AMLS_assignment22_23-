{
 "cells": [
  {
   "cell_type": "code",
   "execution_count": 1,
   "id": "56fec661",
   "metadata": {},
   "outputs": [],
   "source": [
    "#Library imports\n",
    "\n",
    "#Locate the files in their respective directories\n",
    "import os\n",
    "import pandas as pd\n",
    "\n",
    "#Plot \n",
    "import numpy as np\n",
    "import matplotlib.pyplot as plt\n",
    "\n",
    "#PyTprch Libraries needed for the implementation of the network\n",
    "import torch\n",
    "import torch.nn as nn  \n",
    "import torch.optim as optim  \n",
    "import torchvision.transforms as transforms  \n",
    "import torchvision\n",
    "from torch.utils.data import (Dataset,DataLoader) \n",
    "\n",
    "\n",
    "#load and preprocess the images\n",
    "from PIL import Image\n",
    "from skimage import io\n",
    "\n",
    "#Get computation time\n",
    "import time"
   ]
  },
  {
   "cell_type": "code",
   "execution_count": 2,
   "id": "2f05a91b",
   "metadata": {},
   "outputs": [
    {
     "name": "stdout",
     "output_type": "stream",
     "text": [
      "C:\\Users\\Andreas\\Desktop\\AMLS_22-23_SN18086046\n",
      " cpu being used\n"
     ]
    }
   ],
   "source": [
    "#Get working directory\n",
    "directory = os.getcwd() # Path of the current working directory.\n",
    "print(directory)\n",
    "# Get cpu or gpu device for training.\n",
    "device = \"cuda\" if torch.cuda.is_available() else \"cpu\"\n",
    "print(f\" {device} being used\")\n",
    "#if cpu is being used with PyTorch training will be slower"
   ]
  },
  {
   "cell_type": "code",
   "execution_count": 3,
   "id": "709de3d5",
   "metadata": {},
   "outputs": [],
   "source": [
    "#Hyperparameters\n",
    "epochs = 5 #complete passess over the data set\n",
    "classes = 2 #male/female or smile/no-smile\n",
    "batch_size = 200 #data must be loaded in batches for more efficient training (high batch size can lead to memory overload)\n",
    "learning_rate = 0.001"
   ]
  },
  {
   "cell_type": "code",
   "execution_count": 4,
   "id": "591baacf",
   "metadata": {},
   "outputs": [],
   "source": [
    "# class to load the custom dataset\n",
    "\n",
    "class celeba_gender_Dataset(Dataset):\n",
    "    def __init__(self,csv_file,root_dir,transform=None):\n",
    "        self.annotations=pd.read_csv(csv_file)\n",
    "        self.root_dir=root_dir\n",
    "        self.transform=transform\n",
    "        pass\n",
    "  \n",
    "    def __len__(self):\n",
    "        \n",
    "        return len(self.annotations)\n",
    "        pass\n",
    "    def __getitem__(self, index): #PyTorch chooses the index\n",
    "        img_path=os.path.join(self.root_dir, self.annotations.iloc[index,1])  #The 2nd column contains the image names\n",
    "        image=io.imread(img_path)\n",
    "        y_label=torch.tensor(int(self.annotations.iloc[index,2]))  #the 3rd column contains the gender labels\n",
    "        y=(y_label+1)/2 #get 0 and 1 for labels instead of -1 and 1\n",
    "        yt=y.type(torch.LongTensor) #change the datatype to tensor as PyTorch reads only tensors\n",
    "        if self.transform:\n",
    "            image=self.transform(image)\n",
    "        return (image,yt)\n",
    "        \n",
    "        pass"
   ]
  },
  {
   "cell_type": "code",
   "execution_count": 5,
   "id": "41a4f005",
   "metadata": {},
   "outputs": [
    {
     "name": "stdout",
     "output_type": "stream",
     "text": [
      "Train dataset size: 4000\n",
      "Validation dataset size: 1000\n",
      "200\n"
     ]
    }
   ],
   "source": [
    "#reduce image size\n",
    "tf=transforms.Compose([\n",
    "    transforms.ToPILImage(),\n",
    "    transforms.Resize((160,160)), #from [178,218]\n",
    "    transforms.ToTensor()\n",
    "])\n",
    "\n",
    "dataset=celeba_gender_Dataset(csv_file='Datasets/dataset_AMLS_22-23/celeba/labels.csv',\n",
    "                      root_dir='Datasets/dataset_AMLS_22-23/celeba/img',transform=tf)                                                                                            \n",
    "                                                                                            \n",
    "#split the images into test and validation sets\n",
    "train_dataset,val_dataset=torch.utils.data.random_split(dataset,[4000,1000]) \n",
    "\n",
    "train_loader=DataLoader(dataset=train_dataset,batch_size=200,shuffle=True)\n",
    "val_loader=DataLoader(dataset=val_dataset,batch_size=200,shuffle=False)\n",
    "#shuffle=True to ensure our model is not biased for some categories \n",
    "\n",
    "print('Train dataset size:', len(train_dataset)) #must give 4000\n",
    "print('Validation dataset size:',len(val_dataset)) #must give 1000\n",
    "print(batch_size)\n"
   ]
  },
  {
   "cell_type": "code",
   "execution_count": 6,
   "id": "5a0690a9",
   "metadata": {},
   "outputs": [],
   "source": [
    "#CNN model\n",
    "class convNet(nn.Module):\n",
    "    def __init__(self,classes=2):\n",
    "        super(convNet,self).__init__()\n",
    "        \n",
    "        #Input shape =(batch_size,RGB_channel,Image dimensions)=(200,3,160,160)\n",
    "        #First layer\n",
    "        self.conv1=nn.Conv2d(in_channels=3,out_channels=10,kernel_size=(3,3),stride=1,padding=1)\n",
    "        self.norm1=nn.BatchNorm2d(num_features=10) #normalisation\n",
    "        self.tanh1=nn.Tanh()\n",
    "        #Shape=(200,10,160,160)\n",
    "        \n",
    "        self.pool1=nn.MaxPool2d(kernel_size=(2,2))\n",
    "        #reduce dimensions of image by a factor of 2\n",
    "        #Shape= (200,10,80,80)\n",
    "        \n",
    "        #Second layer\n",
    "        self.conv2=nn.Conv2d(in_channels=10,out_channels=20,kernel_size=(3,3),stride=1,padding=1)\n",
    "        self.norm2=nn.BatchNorm2d(num_features=20)\n",
    "        self.tanh2=nn.Tanh()\n",
    "        \n",
    "        #Shape= (200,20,80,80)\n",
    "        self.pool2=nn.MaxPool2d(kernel_size=(2,2))\n",
    "        #Shape= (200,20,40,40)\n",
    "        \n",
    "        \n",
    "        #Third layer\n",
    "        self.conv3=nn.Conv2d(in_channels=20,out_channels=32,kernel_size=(3,3),stride=1,padding=1)\n",
    "        self.norm3=nn.BatchNorm2d(num_features=32)\n",
    "        self.tanh3=nn.Tanh()\n",
    "        #Shape= (200,32,40,40)\n",
    "        \n",
    "        #fully connected layer\n",
    "        self.fc=nn.Linear(in_features=32*40*40,out_features=classes)\n",
    "        \n",
    "        \n",
    "        #feed forward function\n",
    "    def forward(self,input):\n",
    "        output=self.conv1(input)\n",
    "        output=self.norm1(output)\n",
    "        output=self.tanh1(output)\n",
    "        output=self.pool1(output)\n",
    "            \n",
    "        output=self.conv2(output)\n",
    "        output=self.norm2(output)\n",
    "        output=self.tanh2(output)\n",
    "        output=self.pool2(output)\n",
    "            \n",
    "        output=self.conv3(output)\n",
    "        output=self.norm3(output)\n",
    "        output=self.tanh3(output)\n",
    "             \n",
    "            \n",
    "        #output end shape (200,32,40,40)\n",
    "            \n",
    "        output=output.view(-1,32*40*40)\n",
    "            \n",
    "            \n",
    "        output=self.fc(output)\n",
    "            \n",
    "        return output"
   ]
  },
  {
   "cell_type": "code",
   "execution_count": 7,
   "id": "84155364",
   "metadata": {},
   "outputs": [],
   "source": [
    "model=convNet(classes=2).to(device) #send it to cuda/cpu"
   ]
  },
  {
   "cell_type": "code",
   "execution_count": 8,
   "id": "6c16709d",
   "metadata": {},
   "outputs": [],
   "source": [
    "#Loss and optimizer functions\n",
    "optimizer=torch.optim.Adam(model.parameters(),lr=0.001,weight_decay=0.0001)\n",
    "criterion=nn.CrossEntropyLoss() #Loss function"
   ]
  },
  {
   "cell_type": "code",
   "execution_count": 9,
   "id": "6d4610dd",
   "metadata": {},
   "outputs": [
    {
     "name": "stdout",
     "output_type": "stream",
     "text": [
      "Cost at epoch 0 is 0.31904494762420654\n",
      "Cost at epoch 1 is 0.265187107026577\n",
      "Cost at epoch 2 is 0.20841262489557266\n",
      "Cost at epoch 3 is 0.17741110548377037\n",
      "Cost at epoch 4 is 0.1502000495791435\n"
     ]
    },
    {
     "data": {
      "image/png": "[encoded data removed]",
      "text/plain": [
       "<Figure size 432x288 with 1 Axes>"
      ]
     },
     "metadata": {
      "needs_background": "light"
     },
     "output_type": "display_data"
    },
    {
     "name": "stdout",
     "output_type": "stream",
     "text": [
      "Getting Training set accuracy....\n",
      " 3976 / 4000 correct images with accuracy 99.40%\n",
      "Getting Validation set accuracy....\n",
      " 998 / 1000 correct images with accuracy 99.80%\n",
      "Time taken: 506.89604139328003 seconds\n"
     ]
    }
   ],
   "source": [
    "# Train Network\n",
    "start_time=time.time()\n",
    "\n",
    "#empty lists for training and validation losses\n",
    "train_losses = []\n",
    "val_losses=[]\n",
    "\n",
    "#Loop over 5 epochs\n",
    "for epoch in range(epochs):\n",
    "    \n",
    "    #Loop over each batch\n",
    "    for  batch_index, (train_data,train_targets) in enumerate(train_loader):\n",
    "        \n",
    "        # Get data \n",
    "        train_data = train_data.to(device=device)\n",
    "        train_targets = train_targets.to(device=device)\n",
    "        \n",
    "        # forward pass (Evaluation)\n",
    "        train_output = model(train_data)\n",
    "        train_loss = criterion(train_output, train_targets)\n",
    "        \n",
    "        # Clear and calculate gradients\n",
    "        optimizer.zero_grad()\n",
    "        train_loss.backward()\n",
    "        # adam step\n",
    "        optimizer.step()\n",
    "        \n",
    "    #Append the train losses from each batch\n",
    "    train_losses.append(train_loss.item())\n",
    "    \n",
    "    print(f\"Cost at epoch {epoch} is {sum(train_losses)/len(train_losses)}\")\n",
    "    \n",
    "    #Same loop for validation set\n",
    "    for batch_index, (val_data,val_targets) in enumerate(val_loader):\n",
    "        \n",
    "        # Get data \n",
    "        val_data = val_data.to(device=device)\n",
    "        val_targets =val_targets.to(device=device)\n",
    "        \n",
    "        # forward pass (Evaluation)\n",
    "        val_output = model(val_data)\n",
    "        val_loss = criterion(val_output,val_targets)\n",
    "        \n",
    "        # Clear and calculate gradients\n",
    "        optimizer.zero_grad()\n",
    "        val_loss.backward()\n",
    "        # adam step\n",
    "        optimizer.step()\n",
    "    \n",
    "    #Append the train losses from each batch\n",
    "    val_losses.append(val_loss.item())\n",
    "    \n",
    "\n",
    "#plot the Train and Validation costs\n",
    "plt.plot(train_losses, label='Training loss')\n",
    "plt.plot(val_losses, label='Validation loss')\n",
    "plt.legend()\n",
    "plt.xlabel(\"Epoch\")\n",
    "plt.ylabel(\"Losses\")\n",
    "plt.title(\"Gender classification\")\n",
    "plt.show() \n",
    "\n",
    "   \n",
    "\n",
    "# Check accuracy of training and validation sets\n",
    "def check_accuracy(loader, model):\n",
    "    num_correct = 0\n",
    "    num_total= 0\n",
    "    \n",
    "    model.eval()\n",
    "    with torch.no_grad():\n",
    "        for images, labels in loader:\n",
    "            images = images.to(device=device)\n",
    "            labbels = labels.to(device=device)\n",
    "\n",
    "            output = model(images)\n",
    "            _, predictions = output.max(1)\n",
    "            num_correct += (predictions == labels).sum()\n",
    "            num_total += predictions.size(0)\n",
    "\n",
    "        print( f\" {num_correct} / {num_total} correct images with accuracy {float(num_correct)/float(num_total)*100:.2f}%\")\n",
    "        \n",
    "    model.train()\n",
    "\n",
    "\n",
    "print(\"Getting Training set accuracy....\")\n",
    "check_accuracy(train_loader, model)\n",
    "    \n",
    "print(\"Getting Validation set accuracy....\")\n",
    "check_accuracy(val_loader, model)  \n",
    "\n",
    "elapsed_time=time.time()\n",
    "print('Time taken:',(elapsed_time-start_time),'seconds')\n",
    "\n",
    "#Save the model\n",
    "torch.save(model.state_dict(), 'A1_gender_model.ckpt')\n"
   ]
  },
  {
   "cell_type": "code",
   "execution_count": 35,
   "id": "6e567e53",
   "metadata": {},
   "outputs": [
    {
     "name": "stdout",
     "output_type": "stream",
     "text": [
      "Test dataset size: 1000\n",
      "5\n"
     ]
    }
   ],
   "source": [
    "#Load the test set\n",
    "test_dataset=celeba_gender_Dataset(csv_file='Datasets/dataset_AMLS_22-23_test/celeba_test/labels.csv',\n",
    "                      root_dir='Datasets/dataset_AMLS_22-23_test/celeba_test/img',transform=tf)\n",
    "\n",
    "test_loader=DataLoader(dataset=test_dataset,batch_size=200,shuffle=False)\n",
    "\n",
    "print('Test dataset size:',len(val_dataset)) #must give 1000\n",
    "print(len(test_loader)) #must give 5"
   ]
  },
  {
   "cell_type": "code",
   "execution_count": 36,
   "id": "7ff02ef4",
   "metadata": {},
   "outputs": [
    {
     "data": {
      "text/plain": [
       "convNet(\n",
       "  (conv1): Conv2d(3, 10, kernel_size=(3, 3), stride=(1, 1), padding=(1, 1))\n",
       "  (norm1): BatchNorm2d(10, eps=1e-05, momentum=0.1, affine=True, track_running_stats=True)\n",
       "  (tanh1): Tanh()\n",
       "  (pool1): MaxPool2d(kernel_size=(2, 2), stride=(2, 2), padding=0, dilation=1, ceil_mode=False)\n",
       "  (conv2): Conv2d(10, 20, kernel_size=(3, 3), stride=(1, 1), padding=(1, 1))\n",
       "  (norm2): BatchNorm2d(20, eps=1e-05, momentum=0.1, affine=True, track_running_stats=True)\n",
       "  (tanh2): Tanh()\n",
       "  (pool2): MaxPool2d(kernel_size=(2, 2), stride=(2, 2), padding=0, dilation=1, ceil_mode=False)\n",
       "  (conv3): Conv2d(20, 32, kernel_size=(3, 3), stride=(1, 1), padding=(1, 1))\n",
       "  (norm3): BatchNorm2d(32, eps=1e-05, momentum=0.1, affine=True, track_running_stats=True)\n",
       "  (tanh3): Tanh()\n",
       "  (fc): Linear(in_features=51200, out_features=2, bias=True)\n",
       ")"
      ]
     },
     "execution_count": 36,
     "metadata": {},
     "output_type": "execute_result"
    }
   ],
   "source": [
    "#Load the model\n",
    "model.load_state_dict(torch.load('A1_gender_model.ckpt'))\n",
    "model.eval()\n",
    "#in_features=32*40*40=51200 , out_features= no. of classes"
   ]
  },
  {
   "cell_type": "code",
   "execution_count": 37,
   "id": "a54dd713",
   "metadata": {},
   "outputs": [
    {
     "name": "stdout",
     "output_type": "stream",
     "text": [
      "Getting Test set accuracy....\n",
      " 924 / 1000 correct images with accuracy 92.40%\n"
     ]
    }
   ],
   "source": [
    "print(\"Getting Test set accuracy....\")\n",
    "check_accuracy(test_loader, model) "
   ]
  },
  {
   "cell_type": "code",
   "execution_count": null,
   "id": "afd598f2",
   "metadata": {},
   "outputs": [],
   "source": []
  }
 ],
 "metadata": {
  "kernelspec": {
   "display_name": "Python 3 (ipykernel)",
   "language": "python",
   "name": "python3"
  },
  "language_info": {
   "codemirror_mode": {
    "name": "ipython",
    "version": 3
   },
   "file_extension": ".py",
   "mimetype": "text/x-python",
   "name": "python",
   "nbconvert_exporter": "python",
   "pygments_lexer": "ipython3",
   "version": "3.9.7"
  }
 },
 "nbformat": 4,
 "nbformat_minor": 5
}
